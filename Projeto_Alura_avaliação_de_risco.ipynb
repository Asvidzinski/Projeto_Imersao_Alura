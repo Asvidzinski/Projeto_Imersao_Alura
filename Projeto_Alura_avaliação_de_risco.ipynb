{
  "nbformat": 4,
  "nbformat_minor": 0,
  "metadata": {
    "colab": {
      "provenance": [],
      "authorship_tag": "ABX9TyMYkXnnl6HqgAvi0k/2cM7V",
      "include_colab_link": true
    },
    "kernelspec": {
      "name": "python3",
      "display_name": "Python 3"
    },
    "language_info": {
      "name": "python"
    }
  },
  "cells": [
    {
      "cell_type": "markdown",
      "metadata": {
        "id": "view-in-github",
        "colab_type": "text"
      },
      "source": [
        "<a href=\"https://colab.research.google.com/github/Asvidzinski/Projeto_Imersao_Alura/blob/main/Projeto_Alura_avalia%C3%A7%C3%A3o_de_risco.ipynb\" target=\"_parent\"><img src=\"https://colab.research.google.com/assets/colab-badge.svg\" alt=\"Open In Colab\"/></a>"
      ]
    },
    {
      "cell_type": "code",
      "execution_count": 75,
      "metadata": {
        "id": "rLJJq2-uqbvO"
      },
      "outputs": [],
      "source": [
        "!pip install -U -q google-generativeai\n",
        "\n",
        "\n"
      ]
    },
    {
      "cell_type": "code",
      "source": [
        "import numpy as np\n",
        "import pandas as pd\n",
        "import google.generativeai as genai\n",
        "from google.colab import userdata\n",
        "api_key = userdata.get(\"SECRET_KEY\")\n",
        "genai.configure(api_key=api_key)"
      ],
      "metadata": {
        "id": "6hKnzD0DsHGd"
      },
      "execution_count": 83,
      "outputs": []
    },
    {
      "cell_type": "code",
      "source": [
        "PERFIL1 = {\n",
        "    \"Título\": \"nenhum risco, garantia, segurança, solidez, conservador\",\n",
        "    \"Conteúdo\": \"Você tem maior aversão ao risco, deve procurar produtos simples, baixa rentabilidade mas pouca ou nenhuma chance de perder dinheiro, sem marcação à mercado. Classe de ativos: renda fixa. Exemplos de ativos: Poupança, CDB, Tesouro Selic\"}\n",
        "\n",
        "PERFIL2 = {\n",
        "    \"Título\": \"muito pouco risco, garantia, segurança, solidez, conservador, rendimento\",\n",
        "    \"Conteúdo\": \"Embora seu perfil seja conservador você aceita correr um pouquinho de riscos para buscar um pouco mais de rentabildade, investindo em imóveis, por exemplo. Classe de ativos: renda fixa, imóveis. Exemplos de ativos: Poupança, CDB, Tesouro IPCA, pequenos imóveis\"}\n",
        "\n",
        "PERFIL3 = {\n",
        "    \"Título\": \"pouco risco, renda variável, segurança, rendimento\",\n",
        "    \"Conteúdo\": \"Você tem um perfil conservador mas já aceita correr riscos um pouco maiores em busca de mais rentabilidade, mas seus produtos devem ser na maioria de renda fixa. Classe de ativos: renda fixa, imóveis, fundos de índices. Exemplos de ativos: Poupança, CDB, Tesouro IPCA, pequenos imóveis, ETFs de índices como o SP500\"}\n",
        "\n",
        "PERFIL4 = {\n",
        "    \"Título\": \"risco moderado, perfil moderado, renda fixa e variável\",\n",
        "    \"Conteúdo\": \"Você aceita correr um pouco de risco na renda variável sem abrir mão da segurança da renda fixa, deve ter um perfil equilibrado dos dois. Classe de ativos: renda fixa, imóveis, fundos de índices, fundos imobiliários. Exemplos de ativos: Poupança, CDB, Tesouro IPCA, pequenos imóveis, ETFs de SP500, FIIs de grande liquidez\"}\n",
        "\n",
        "PERFIL5 = {\n",
        "    \"Título\": \"risco moderado com ações, renda variável, bons redimentos, maior incerteza\",\n",
        "    \"Conteúdo\": \"Você é um investidor moderado e pode começar a investir em ações, mas sempre mantendo parte importante do patrimônio em ativos mais conservadores. Classe de ativos: renda fixa, renda variável, ações. Exemplos de ativos: Produtos de renda fixa, ações de empresas sólidas, FIIs de grande liquidez\"}\n",
        "\n",
        "PERFIL6 = {\n",
        "    \"Título\": \"risco arrojado, ações, maior parte em renda varável, maior rendimento\",\n",
        "    \"Conteúdo\": \"Por ter uma tolerância  maior ao risco, você pode investir uma parcela maior do seu patrimônio em renda variável, como em ações, por exemplo. Matenha sempre parte do investimento em renda fixa. Classe de ativos: renda váriável, imóveis, fundos de índices. Exemplos de ativos:  Ações de boas empresas, FIIs \"}\n",
        "\n",
        "PERFIL7 = {\n",
        "    \"Título\": \"risco muito arrojado, grande parte renda variável, tolerância ao risco\",\n",
        "    \"Conteúdo\": \"Se você busca maiores ganhos e para isso aceita o risco de ter maiores perdas ou de ver o patrimônio variar muito, deve ter a maior parte do investimento em renda variável, mantendo sempre uma reserva em renda fixa. Classe de ativos: renda váriável no Brasil e exterior e dólar. Exemplos de ativos:  Ações, Stocks, Reits\"}\n",
        "\n",
        "perfis = [PERFIL1, PERFIL2, PERFIL3, PERFIL4, PERFIL5, PERFIL6, PERFIL7]"
      ],
      "metadata": {
        "id": "OzH8b5Lu3Qi1"
      },
      "execution_count": 77,
      "outputs": []
    },
    {
      "cell_type": "code",
      "source": [
        "model = \"models/embedding-001\"\n",
        "\n",
        "df = pd.DataFrame(perfis)\n",
        "df.columns = [\"Titulo\", \"Conteudo\"]"
      ],
      "metadata": {
        "id": "ROusbCpTQm2U"
      },
      "execution_count": 78,
      "outputs": []
    },
    {
      "cell_type": "code",
      "source": [
        "def embed_fn(title, text):\n",
        "  return genai.embed_content(model=model,\n",
        "                                 content=text,\n",
        "                                 title=title,\n",
        "                                 task_type=\"RETRIEVAL_DOCUMENT\")[\"embedding\"]"
      ],
      "metadata": {
        "id": "eivl6Qm04bsx"
      },
      "execution_count": 79,
      "outputs": []
    },
    {
      "cell_type": "code",
      "source": [
        "df[\"Embeddings\"] = df.apply(lambda row: embed_fn(row[\"Titulo\"], row[\"Conteudo\"]), axis=1)"
      ],
      "metadata": {
        "id": "ASB7CMnq5Byh"
      },
      "execution_count": 80,
      "outputs": []
    },
    {
      "cell_type": "code",
      "source": [
        "def gerar_e_buscar_consulta(consulta, base, model):\n",
        "  embedding_da_consulta = genai.embed_content(model=model,\n",
        "                                 content=consulta,\n",
        "                                 task_type=\"RETRIEVAL_QUERY\")[\"embedding\"]\n",
        "\n",
        "  produtos_escalares = np.dot(np.stack(df[\"Embeddings\"]), embedding_da_consulta)\n",
        "\n",
        "  indice = np.argmax(produtos_escalares)\n",
        "  return df.iloc[indice][\"Conteudo\"]"
      ],
      "metadata": {
        "id": "g7-7BFU36piB"
      },
      "execution_count": 81,
      "outputs": []
    },
    {
      "cell_type": "code",
      "source": [
        "consulta = input(\"Descreva brevemente como você se sente sobre o risco em relação aos seus investimentos. Por exemplo, se você tem muito medo de perder o patrimônio que acumulou, se aceita correr mais riscos em busca de maiores retornos, se deseja correr grandes riscos em busca de retornos maiores. Cite os ativos nos quais você já investe ou tem vontade de conhecer: \")\n",
        "\n",
        "trecho = gerar_e_buscar_consulta(consulta, df, model)"
      ],
      "metadata": {
        "id": "ouLEbryt9B1g"
      },
      "execution_count": null,
      "outputs": []
    },
    {
      "cell_type": "code",
      "source": [
        "prompt = f\"Reescreva esse texto de uma forma detalhada, acrescentando informações importantes, passo a passo, em uma liguagem acessível para iniciantes. Detalhe e exemplifique as classes de ativos e sugira os ativos listados nos exemplos para que: {trecho}\"\n",
        "\n",
        "model_2 = genai.GenerativeModel(\"gemini-1.5-pro-latest\")\n",
        "response = model_2.generate_content(prompt)\n",
        "print(response.text)"
      ],
      "metadata": {
        "id": "f-NRQ24O-rMZ"
      },
      "execution_count": null,
      "outputs": []
    },
    {
      "cell_type": "code",
      "source": [
        "chat = model_2.start_chat(history=[])\n",
        "\n",
        "prompt = input(\"Você tem alguma dúvida? Responda 'não' para finalizar \")\n",
        "\n",
        "while prompt != \"não\":\n",
        "  response = chat.send_message(prompt)\n",
        "  print(\"Resposta:\", response.text, '\\n\\n')\n",
        "  prompt = input('Você ainda tem alguma dúvida? ')\n",
        "\n",
        "  chat"
      ],
      "metadata": {
        "id": "hy-rAwZAgJpO"
      },
      "execution_count": null,
      "outputs": []
    }
  ]
}